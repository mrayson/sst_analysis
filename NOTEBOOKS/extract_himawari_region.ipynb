{
 "cells": [
  {
   "cell_type": "markdown",
   "metadata": {},
   "source": [
    "# Extract a region of the total Himawari-8 dataset\n",
    "\n",
    " To put onto cloudstor"
   ]
  },
  {
   "cell_type": "code",
   "execution_count": 1,
   "metadata": {},
   "outputs": [],
   "source": [
    "# Use a dask client\n",
    "from dask.distributed import Client, LocalCluster, worker, progress, wait\n",
    "import dask\n",
    "from dask_jobqueue import SLURMCluster\n"
   ]
  },
  {
   "cell_type": "code",
   "execution_count": 2,
   "metadata": {},
   "outputs": [
    {
     "name": "stderr",
     "output_type": "stream",
     "text": [
      "\n",
      "Bad key \"backend.qt5\" on line 5 in\n",
      "/home/mrayson/.config/matplotlib/matplotlibrc.\n",
      "You probably need to get an updated matplotlibrc file from\n",
      "http://github.com/matplotlib/matplotlib/blob/master/matplotlibrc.template\n",
      "or from the matplotlib source distribution\n"
     ]
    },
    {
     "data": {
      "text/html": [
       "<table style=\"border: 2px solid white;\">\n",
       "<tr>\n",
       "<td style=\"vertical-align: top; border: 0px solid white\">\n",
       "<h3 style=\"text-align: left;\">Client</h3>\n",
       "<ul style=\"text-align: left; list-style: none; margin: 0; padding: 0;\">\n",
       "  <li><b>Scheduler: </b>tcp://146.118.38.114:35671</li>\n",
       "  <li><b>Dashboard: </b><a href='http://146.118.38.114:8787/status' target='_blank'>http://146.118.38.114:8787/status</a>\n",
       "</ul>\n",
       "</td>\n",
       "<td style=\"vertical-align: top; border: 0px solid white\">\n",
       "<h3 style=\"text-align: left;\">Cluster</h3>\n",
       "<ul style=\"text-align: left; list-style:none; margin: 0; padding: 0;\">\n",
       "  <li><b>Workers: </b>0</li>\n",
       "  <li><b>Cores: </b>0</li>\n",
       "  <li><b>Memory: </b>0 B</li>\n",
       "</ul>\n",
       "</td>\n",
       "</tr>\n",
       "</table>"
      ],
      "text/plain": [
       "<Client: 'tcp://146.118.38.114:35671' processes=0 threads=0, memory=0 B>"
      ]
     },
     "execution_count": 2,
     "metadata": {},
     "output_type": "execute_result"
    }
   ],
   "source": [
    "cluster = SLURMCluster()\n",
    "client=Client(cluster)\n",
    "cluster.scale(40)\n",
    "client"
   ]
  },
  {
   "cell_type": "code",
   "execution_count": 3,
   "metadata": {},
   "outputs": [],
   "source": [
    "import xarray as xr\n",
    "import matplotlib.pyplot as plt\n",
    "import numpy as np\n",
    "from ipywidgets import interact, interactive, fixed, interact_manual\n",
    "import pandas as pd\n",
    "from matplotlib import animation\n",
    "import glob\n",
    "import cmocean\n",
    "import cartopy\n",
    "import zarr\n",
    "\n",
    "from matplotlib.colors import LightSource\n",
    "from scipy import ndimage\n",
    "# import geoviews as gv\n",
    "# import geoviews.feature as gf"
   ]
  },
  {
   "cell_type": "code",
   "execution_count": 4,
   "metadata": {},
   "outputs": [
    {
     "data": {
      "text/plain": [
       "(numpy.datetime64('2016-01-01T00:00:17.000000000'),\n",
       " numpy.datetime64('2019-12-31T23:00:17.000000000'),\n",
       " <xarray.Dataset>\n",
       " Dimensions:                  (lat: 6001, lon: 6001, time: 34688)\n",
       " Coordinates:\n",
       "   * lat                      (lat) float32 60.0 59.98 59.96 ... -59.979996 -60.0\n",
       "   * lon                      (lon) float32 80.0 80.02 80.04 ... 199.98 200.0\n",
       "   * time                     (time) datetime64[ns] 2016-01-01T00:00:17 ... 2019-12-31T23:00:17\n",
       " Data variables:\n",
       "     sea_surface_temperature  (time, lat, lon) float32 dask.array<chunksize=(1, 6001, 6001), meta=np.ndarray>\n",
       " Attributes:\n",
       "     Conventions:                CF-1.4,Unidata Observation Dataset v1.0\n",
       "     Metadata_Conventions:       Unidata Observation Dataset v1.0\n",
       "     acknowledgment:             Please acknowledge the use of these data with...\n",
       "     algorithm_version:          1.02\n",
       "     cdm_data_type:              grid\n",
       "     comment:                    SST from AHI\n",
       "     contact:                    ghrsst@eorc.jaxa.jp\n",
       "     creator_email:              ghrsst@eorc.jaxa.jp\n",
       "     creator_name:               Japan Aerospace Exploration Agency\n",
       "     creator_url:                http://www.eorc.jaxa.jp/en/index.php\n",
       "     date_created:               20191204T022743Z\n",
       "     easternmost_longitude:      -160.0\n",
       "     file_quality_level:         1\n",
       "     gds_version_id:             02.0\n",
       "     geospatial_lat_resolution:  0.019999999552965164\n",
       "     geospatial_lat_units:       degrees north\n",
       "     geospatial_lon_resolution:  0.019999999552965164\n",
       "     geospatial_lon_units:       degrees east\n",
       "     history:                    L2P data file originally produced by JAXA\n",
       "     id:                         H08_AHI-JAXA-L3C-v01.2\n",
       "     institution:                Japan Aerospace Exploration Agency(JAXA)\n",
       "     keywords:                   Oceans > Ocean Temperature > Sea Surface Temp...\n",
       "     keywords_vocabulary:        NASA Global Change Master Directory (GCMD)\n",
       "     license:                    GHRSST protocol describes data use as free an...\n",
       "     metadata_link:              TBD\n",
       "     naming_authority:           org.ghrsst\n",
       "     netcdf_version_id:          4.3.2\n",
       "     northernmost_latitude:      60.0\n",
       "     platform:                   Himawari-8\n",
       "     processing_level:           L3C\n",
       "     product_version:            1.2\n",
       "     project:                    Group for High Resolution Sea Surface Tempera...\n",
       "     publisher_email:            ghrsst-po@nceo.ac.uk\n",
       "     publisher_name:             The GHRSST Project Office\n",
       "     publisher_url:              http://www.ghrsst.org\n",
       "     references:                 TBD\n",
       "     sensor:                     AHI\n",
       "     source:                     AHI_L2_SST,OISST,ECMWF,AMSR2_L3_SIC\n",
       "     southernmost_latitude:      -60.0\n",
       "     spatial_resolution:         0.02 deg\n",
       "     standard_name_vocabulary:   NetCDF Climate and Forecast (CF) Metadata Con...\n",
       "     start_time:                 20191201T000000Z\n",
       "     stop_time:                  20191201T010000Z\n",
       "     summary:                    TBD\n",
       "     time_coverage_end:          20191201T010000Z\n",
       "     time_coverage_start:        20191201T000000Z\n",
       "     title:                      Sea Surface Temperature from AHI onboard Hima...\n",
       "     uuid:                       c3faab4d-e798-4a83-be96-41f517e13e86\n",
       "     westernmost_longitude:      80.0)"
      ]
     },
     "execution_count": 4,
     "metadata": {},
     "output_type": "execute_result"
    }
   ],
   "source": [
    "# Open the object as a zarr file\n",
    "outpath = '/home/mrayson/scratch/HIMAWARI/raw_zarr'\n",
    "ds = xr.open_zarr(outpath)\n",
    "ds.time.values[0],ds.time.values[-1],ds"
   ]
  },
  {
   "cell_type": "raw",
   "metadata": {},
   "source": [
    "# Subset the total data set\n",
    "extents = [110,145,-25,-5]\n",
    "chunks=None\n",
    "outpath = '/home/mrayson/scratch/HIMAWARI/NWS_zarr_c'\n",
    "\n",
    "# chunks={'time':5000,'lat':-1,'lon':1}\n",
    "# outpath = '/home/mrayson/scratch/HIMAWARI/NWS_zarr_timechunk'\n",
    "\n",
    "\n",
    "# timeslice = slice('2016-01-01','2016-01-04')\n",
    "# This uses too much memory\n",
    "dsout = ds.sel(lon=slice(extents[0], extents[1]), lat=slice(extents[3], extents[2]))\n",
    "# dsout.persist()\n",
    "\n",
    "# dschunk = dsout.chunk(chunks)\n",
    "\n",
    "# dschunk"
   ]
  },
  {
   "cell_type": "raw",
   "metadata": {},
   "source": [
    "# compressor = zarr.Blosc(cname='zstd', clevel=3, shuffle=2)\n",
    "\n",
    "mode='w'\n",
    "append_dim=None\n",
    "encoding = {'sea_surface_temperature': {'compressor': compressor}}\n",
    "\n",
    "\n",
    "dsout.to_zarr(outpath, encoding=encoding,\\\n",
    "             mode=mode, append_dim=append_dim, consolidated=True)"
   ]
  },
  {
   "cell_type": "code",
   "execution_count": 9,
   "metadata": {},
   "outputs": [
    {
     "name": "stdout",
     "output_type": "stream",
     "text": [
      "total 126G\r\n",
      "drwxr-sr-x  10 mrayson pawsey0106 4.0K Apr 24 15:06 .\r\n",
      "drwxr-s---   6 mrayson pawsey0106 4.0K Apr 24 14:11 ..\r\n",
      "-rw-r--r--   1 mrayson pawsey0106 2.8M Apr 20 23:59 copyjob-4418514.out\r\n",
      "-rw-r--r--   1 mrayson pawsey0106 2.8M Apr 23 16:29 copyjob-4514618.out\r\n",
      "-rw-r--r--   1 mrayson pawsey0106  33G Jan 20 16:52 himawari-nws.tar.gz\r\n",
      "drwxr-sr-x+  2 mrayson pawsey0106 2.4M Jan 23 21:18 NWS\r\n",
      "drwxr-sr-x   6 mrayson pawsey0106 4.0K Apr 20 23:59 NWS_zarr\r\n",
      "drwxr-sr-x   6 mrayson pawsey0106 4.0K Apr 24 15:47 NWS_zarr_c\r\n",
      "-rw-r--r--   1 mrayson pawsey0106  47G Apr 23 16:29 NWS_zarr_c.zip\r\n",
      "drwxr-sr-x   6 mrayson pawsey0106 4.0K Apr 24 14:55 NWS_zarr_timechunk\r\n",
      "-rw-r--r--   1 mrayson pawsey0106  47G Apr 20 23:59 NWS_zarr.zip\r\n",
      "drwxr-sr-x+  2 mrayson pawsey0106 4.7M Jan 23 21:18 raw\r\n",
      "drwxr-sr-x   6 mrayson pawsey0106 4.0K Jan 24 11:10 raw_zarr\r\n",
      "drwxr-sr-x   6 mrayson pawsey0106 4.0K Apr 20 22:35 test_NWS_zarr\r\n",
      "drwxr-sr-x   6 mrayson pawsey0106 4.0K Apr 23 17:59 test_NWS_zarr_c\r\n",
      "-rw-r--r--   1 mrayson pawsey0106 172M Apr 23 17:59 test_NWS_zarr_c.zip\r\n",
      "-rw-r--r--   1 mrayson pawsey0106 172M Apr 20 22:34 test_NWS_zarr.zip\r\n",
      "-rwxr-xr-x   1 mrayson pawsey0106  670 Apr 23 16:02 zeus-copy\r\n"
     ]
    }
   ],
   "source": [
    "#!du -h -d 1 /home/mrayson/scratch/HIMAWARI/\n",
    "!ls -lah /home/mrayson/scratch/HIMAWARI/"
   ]
  },
  {
   "cell_type": "code",
   "execution_count": 5,
   "metadata": {},
   "outputs": [
    {
     "data": {
      "text/plain": [
       "(numpy.datetime64('2016-01-01T00:00:17.000000000'),\n",
       " numpy.datetime64('2019-12-31T23:00:17.000000000'))"
      ]
     },
     "execution_count": 5,
     "metadata": {},
     "output_type": "execute_result"
    }
   ],
   "source": [
    "ds.time.values[0], ds.time.values[-1]"
   ]
  },
  {
   "cell_type": "code",
   "execution_count": 6,
   "metadata": {},
   "outputs": [
    {
     "data": {
      "text/plain": [
       "(array(['2016-01-01T00:00:17.000000000', '2016-06-29T00:00:17.000000000',\n",
       "        '2016-12-26T00:00:17.000000000', '2017-06-24T00:00:17.000000000',\n",
       "        '2017-12-21T00:00:17.000000000', '2018-06-19T00:00:17.000000000',\n",
       "        '2018-12-16T00:00:17.000000000', '2019-06-14T00:00:17.000000000',\n",
       "        '2019-12-11T00:00:17.000000000'], dtype='datetime64[ns]'),\n",
       " array(['2016-06-29T00:00:17.000000000', '2016-12-26T00:00:17.000000000',\n",
       "        '2017-06-24T00:00:17.000000000', '2017-12-21T00:00:17.000000000',\n",
       "        '2018-06-19T00:00:17.000000000', '2018-12-16T00:00:17.000000000',\n",
       "        '2019-06-14T00:00:17.000000000', '2019-12-11T00:00:17.000000000',\n",
       "        '2019-12-31T23:00:17.000000000'], dtype='datetime64[ns]'),\n",
       " 9)"
      ]
     },
     "execution_count": 6,
     "metadata": {},
     "output_type": "execute_result"
    }
   ],
   "source": [
    "# Write 6 month blocks to zarr and append\n",
    "extents = [110,145,-25,-5]\n",
    "outpath = '/home/mrayson/scratch/HIMAWARI/NWS_zarr_timechunk'\n",
    "\n",
    "tstarts = pd.date_range(ds.time.values[0],ds.time.values[-1],freq='180d').values\n",
    "tends = np.hstack([tstarts[1::],ds.time.values[-1]])\n",
    "nt = tends.shape[0]\n",
    "tstarts,tends, nt"
   ]
  },
  {
   "cell_type": "code",
   "execution_count": 8,
   "metadata": {},
   "outputs": [
    {
     "name": "stdout",
     "output_type": "stream",
     "text": [
      "########################################################################\n",
      "2016-01-01T00:00:17.000000000 2016-06-29T00:00:17.000000000 1 9\n",
      "########################################################################\n",
      "2016-06-29T00:00:17.000000000 2016-12-26T00:00:17.000000000 2 9\n",
      "########################################################################\n",
      "2016-12-26T00:00:17.000000000 2017-06-24T00:00:17.000000000 3 9\n",
      "########################################################################\n",
      "2017-06-24T00:00:17.000000000 2017-12-21T00:00:17.000000000 4 9\n",
      "########################################################################\n",
      "2017-12-21T00:00:17.000000000 2018-06-19T00:00:17.000000000 5 9\n",
      "########################################################################\n",
      "2018-06-19T00:00:17.000000000 2018-12-16T00:00:17.000000000 6 9\n",
      "########################################################################\n",
      "2018-12-16T00:00:17.000000000 2019-06-14T00:00:17.000000000 7 9\n",
      "########################################################################\n",
      "2019-06-14T00:00:17.000000000 2019-12-11T00:00:17.000000000 8 9\n",
      "########################################################################\n",
      "2019-12-11T00:00:17.000000000 2019-12-31T23:00:17.000000000 9 9\n",
      "Done. Written to file:  /home/mrayson/scratch/HIMAWARI/NWS_zarr_timechunk\n"
     ]
    }
   ],
   "source": [
    "compressor = zarr.Blosc(cname='zstd', clevel=3, shuffle=2)\n",
    "\n",
    "mode='w'\n",
    "append_dim=None\n",
    "encoding = {'sea_surface_temperature': {'compressor': compressor}}\n",
    "consolidated = True\n",
    "chunks={'time':-1,'lat':-1,'lon':1}\n",
    "\n",
    "ii=0\n",
    "for t1,t2 in zip(tstarts,tends):\n",
    "    ii+=1\n",
    "\n",
    "    print(72*'#')\n",
    "    print(t1,t2,ii,nt)\n",
    "    \n",
    "    # Restart from a point\n",
    "    if ii < 8:\n",
    "        append_dim='time'\n",
    "        mode='a'\n",
    "        encoding=None\n",
    "        continue\n",
    "        \n",
    "    # Slice the object\n",
    "    dsout = ds.sel(lon=slice(extents[0], extents[1]), \n",
    "                   lat=slice(extents[3], extents[2]),\n",
    "                  time=slice(t1,t2)\n",
    "                  ).chunk(chunks)\n",
    "    if ii == 1:\n",
    "        print(dsout)\n",
    "    \n",
    "    if ii == nt:\n",
    "        consolidated=True\n",
    "    \n",
    "    dsout.to_zarr(outpath, encoding=encoding,\\\n",
    "             mode=mode, append_dim=append_dim, consolidated=consolidated)\n",
    "    \n",
    "    append_dim='time'\n",
    "    mode='a'\n",
    "    encoding=None\n",
    "\n",
    "\n",
    "print('Done. Written to file: ',outpath)\n",
    "    "
   ]
  },
  {
   "cell_type": "code",
   "execution_count": 9,
   "metadata": {},
   "outputs": [
    {
     "data": {
      "text/html": [
       "<pre>&lt;xarray.Dataset&gt;\n",
       "Dimensions:                  (lat: 1001, lon: 1751, time: 39016)\n",
       "Coordinates:\n",
       "  * lat                      (lat) float32 -5.0 -5.0199966 ... -24.979996 -25.0\n",
       "  * lon                      (lon) float32 110.0 110.02 110.04 ... 144.98 145.0\n",
       "  * time                     (time) datetime64[ns] 2016-01-01T00:00:17 ... 2019-12-31T23:00:17\n",
       "Data variables:\n",
       "    sea_surface_temperature  (time, lat, lon) float32 dask.array&lt;chunksize=(4319, 1001, 1), meta=np.ndarray&gt;\n",
       "Attributes:\n",
       "    Conventions:                CF-1.4,Unidata Observation Dataset v1.0\n",
       "    Metadata_Conventions:       Unidata Observation Dataset v1.0\n",
       "    acknowledgment:             Please acknowledge the use of these data with...\n",
       "    algorithm_version:          1.02\n",
       "    cdm_data_type:              grid\n",
       "    comment:                    SST from AHI\n",
       "    contact:                    ghrsst@eorc.jaxa.jp\n",
       "    creator_email:              ghrsst@eorc.jaxa.jp\n",
       "    creator_name:               Japan Aerospace Exploration Agency\n",
       "    creator_url:                http://www.eorc.jaxa.jp/en/index.php\n",
       "    date_created:               20191204T022743Z\n",
       "    easternmost_longitude:      -160.0\n",
       "    file_quality_level:         1\n",
       "    gds_version_id:             02.0\n",
       "    geospatial_lat_resolution:  0.019999999552965164\n",
       "    geospatial_lat_units:       degrees north\n",
       "    geospatial_lon_resolution:  0.019999999552965164\n",
       "    geospatial_lon_units:       degrees east\n",
       "    history:                    L2P data file originally produced by JAXA\n",
       "    id:                         H08_AHI-JAXA-L3C-v01.2\n",
       "    institution:                Japan Aerospace Exploration Agency(JAXA)\n",
       "    keywords:                   Oceans &gt; Ocean Temperature &gt; Sea Surface Temp...\n",
       "    keywords_vocabulary:        NASA Global Change Master Directory (GCMD)\n",
       "    license:                    GHRSST protocol describes data use as free an...\n",
       "    metadata_link:              TBD\n",
       "    naming_authority:           org.ghrsst\n",
       "    netcdf_version_id:          4.3.2\n",
       "    northernmost_latitude:      60.0\n",
       "    platform:                   Himawari-8\n",
       "    processing_level:           L3C\n",
       "    product_version:            1.2\n",
       "    project:                    Group for High Resolution Sea Surface Tempera...\n",
       "    publisher_email:            ghrsst-po@nceo.ac.uk\n",
       "    publisher_name:             The GHRSST Project Office\n",
       "    publisher_url:              http://www.ghrsst.org\n",
       "    references:                 TBD\n",
       "    sensor:                     AHI\n",
       "    source:                     AHI_L2_SST,OISST,ECMWF,AMSR2_L3_SIC\n",
       "    southernmost_latitude:      -60.0\n",
       "    spatial_resolution:         0.02 deg\n",
       "    standard_name_vocabulary:   NetCDF Climate and Forecast (CF) Metadata Con...\n",
       "    start_time:                 20191201T000000Z\n",
       "    stop_time:                  20191201T010000Z\n",
       "    summary:                    TBD\n",
       "    time_coverage_end:          20191201T010000Z\n",
       "    time_coverage_start:        20191201T000000Z\n",
       "    title:                      Sea Surface Temperature from AHI onboard Hima...\n",
       "    uuid:                       c3faab4d-e798-4a83-be96-41f517e13e86\n",
       "    westernmost_longitude:      80.0</pre>"
      ],
      "text/plain": [
       "<xarray.Dataset>\n",
       "Dimensions:                  (lat: 1001, lon: 1751, time: 39016)\n",
       "Coordinates:\n",
       "  * lat                      (lat) float32 -5.0 -5.0199966 ... -24.979996 -25.0\n",
       "  * lon                      (lon) float32 110.0 110.02 110.04 ... 144.98 145.0\n",
       "  * time                     (time) datetime64[ns] 2016-01-01T00:00:17 ... 2019-12-31T23:00:17\n",
       "Data variables:\n",
       "    sea_surface_temperature  (time, lat, lon) float32 dask.array<chunksize=(4319, 1001, 1), meta=np.ndarray>\n",
       "Attributes:\n",
       "    Conventions:                CF-1.4,Unidata Observation Dataset v1.0\n",
       "    Metadata_Conventions:       Unidata Observation Dataset v1.0\n",
       "    acknowledgment:             Please acknowledge the use of these data with...\n",
       "    algorithm_version:          1.02\n",
       "    cdm_data_type:              grid\n",
       "    comment:                    SST from AHI\n",
       "    contact:                    ghrsst@eorc.jaxa.jp\n",
       "    creator_email:              ghrsst@eorc.jaxa.jp\n",
       "    creator_name:               Japan Aerospace Exploration Agency\n",
       "    creator_url:                http://www.eorc.jaxa.jp/en/index.php\n",
       "    date_created:               20191204T022743Z\n",
       "    easternmost_longitude:      -160.0\n",
       "    file_quality_level:         1\n",
       "    gds_version_id:             02.0\n",
       "    geospatial_lat_resolution:  0.019999999552965164\n",
       "    geospatial_lat_units:       degrees north\n",
       "    geospatial_lon_resolution:  0.019999999552965164\n",
       "    geospatial_lon_units:       degrees east\n",
       "    history:                    L2P data file originally produced by JAXA\n",
       "    id:                         H08_AHI-JAXA-L3C-v01.2\n",
       "    institution:                Japan Aerospace Exploration Agency(JAXA)\n",
       "    keywords:                   Oceans > Ocean Temperature > Sea Surface Temp...\n",
       "    keywords_vocabulary:        NASA Global Change Master Directory (GCMD)\n",
       "    license:                    GHRSST protocol describes data use as free an...\n",
       "    metadata_link:              TBD\n",
       "    naming_authority:           org.ghrsst\n",
       "    netcdf_version_id:          4.3.2\n",
       "    northernmost_latitude:      60.0\n",
       "    platform:                   Himawari-8\n",
       "    processing_level:           L3C\n",
       "    product_version:            1.2\n",
       "    project:                    Group for High Resolution Sea Surface Tempera...\n",
       "    publisher_email:            ghrsst-po@nceo.ac.uk\n",
       "    publisher_name:             The GHRSST Project Office\n",
       "    publisher_url:              http://www.ghrsst.org\n",
       "    references:                 TBD\n",
       "    sensor:                     AHI\n",
       "    source:                     AHI_L2_SST,OISST,ECMWF,AMSR2_L3_SIC\n",
       "    southernmost_latitude:      -60.0\n",
       "    spatial_resolution:         0.02 deg\n",
       "    standard_name_vocabulary:   NetCDF Climate and Forecast (CF) Metadata Con...\n",
       "    start_time:                 20191201T000000Z\n",
       "    stop_time:                  20191201T010000Z\n",
       "    summary:                    TBD\n",
       "    time_coverage_end:          20191201T010000Z\n",
       "    time_coverage_start:        20191201T000000Z\n",
       "    title:                      Sea Surface Temperature from AHI onboard Hima...\n",
       "    uuid:                       c3faab4d-e798-4a83-be96-41f517e13e86\n",
       "    westernmost_longitude:      80.0"
      ]
     },
     "execution_count": 9,
     "metadata": {},
     "output_type": "execute_result"
    }
   ],
   "source": [
    "ds2 = xr.open_zarr(outpath, consolidated=True)\n",
    "ds2"
   ]
  },
  {
   "cell_type": "code",
   "execution_count": 11,
   "metadata": {},
   "outputs": [
    {
     "name": "stdout",
     "output_type": "stream",
     "text": [
      "CPU times: user 84.4 ms, sys: 0 ns, total: 84.4 ms\n",
      "Wall time: 172 ms\n"
     ]
    },
    {
     "data": {
      "text/plain": [
       "[<matplotlib.lines.Line2D at 0x2b664cce9950>]"
      ]
     },
     "execution_count": 11,
     "metadata": {},
     "output_type": "execute_result"
    },
    {
     "data": {
      "image/png": "[encoded data removed]",
      "text/plain": [
       "<Figure size 432x288 with 1 Axes>"
      ]
     },
     "metadata": {
      "needs_background": "light"
     },
     "output_type": "display_data"
    }
   ],
   "source": [
    "%%time\n",
    "plt.figure()\n",
    "ds2['sea_surface_temperature'].sel(lon=120,lat=-13,method='nearest').plot()"
   ]
  },
  {
   "cell_type": "code",
   "execution_count": null,
   "metadata": {},
   "outputs": [],
   "source": []
  }
 ],
 "metadata": {
  "kernelspec": {
   "display_name": "Python 3",
   "language": "python",
   "name": "python3"
  },
  "language_info": {
   "codemirror_mode": {
    "name": "ipython",
    "version": 3
   },
   "file_extension": ".py",
   "mimetype": "text/x-python",
   "name": "python",
   "nbconvert_exporter": "python",
   "pygments_lexer": "ipython3",
   "version": "3.7.6"
  }
 },
 "nbformat": 4,
 "nbformat_minor": 4
}
