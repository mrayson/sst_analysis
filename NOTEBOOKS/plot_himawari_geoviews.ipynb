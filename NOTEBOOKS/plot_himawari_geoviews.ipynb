{
 "cells": [
  {
   "cell_type": "markdown",
   "metadata": {},
   "source": [
    "# Use geoviews to plot the himawari-8 data\n",
    "\n",
    "See:\n",
    " - https://github.com/IOMRC/notebooks/blob/master/geoviews_map_example.ipynb\n",
    " - https://geoviews.org/user_guide/Gridded_Datasets_I.html\n",
    " - https://hvplot.holoviz.org/user_guide/Geographic_Data.html"
   ]
  },
  {
   "cell_type": "raw",
   "metadata": {},
   "source": [
    "# Insstall cartopy and geoviews\n",
    "!export CFLAGS=\"-DACCEPT_USE_OF_DEPRECATED_PROJ_API_H=1\"\n",
    "#!pip install --user cartopy geoviews pyviz \n",
    "!pip install --user --upgrade xarray"
   ]
  },
  {
   "cell_type": "code",
   "execution_count": null,
   "metadata": {},
   "outputs": [],
   "source": [
    "import xarray as xr\n",
    "import pandas as pd\n",
    "import geoviews as gv\n",
    "import geoviews.feature as gf\n",
    "import holoviews as hv\n",
    "\n",
    "from cartopy import crs as ccrs\n",
    "\n",
    "#import hvplot.xarray  \n",
    "\n",
    "#import geoviews.tile_sources as gts\n",
    "\n",
    "import numpy as np\n",
    "\n",
    "gv.extension('bokeh')"
   ]
  },
  {
   "cell_type": "code",
   "execution_count": null,
   "metadata": {},
   "outputs": [],
   "source": [
    "# esriocean = 'https://services.arcgisonline.com/ArcGIS/rest/services/Ocean/World_Ocean_Base/MapServer/tile/{Z}/{Y}/{X}'\n",
    "# esrinatgeo = 'http://services.arcgisonline.com/ArcGIS/rest/services/NatGeo_World_Map/MapServer/tile/{Z}/{Y}/{X}'\n",
    "# esrioceanref = 'http://services.arcgisonline.com/arcgis/rest/services/Ocean/World_Ocean_Reference/MapServer/tile/{Z}/{Y}/{X}'\n",
    "\n",
    "# gv.WMTS(esriocean).options(projection=ccrs.Geostationary(), global_extent=True) \n",
    "\n",
    "# gv.WMTS(esriocean).options(width=600, height=570, global_extent=False) *\\\n",
    "# gv.WMTS(esrioceanref).options(width=600, height=570, alpha=0.9) # *\\\n",
    "# #gv.Points(coords.T).options(size=5, color='m')"
   ]
  },
  {
   "cell_type": "code",
   "execution_count": null,
   "metadata": {},
   "outputs": [],
   "source": [
    "ds = xr.open_dataset('cloudstor/Data/himawari_sst/hw8_single_band_nci_MayJune2020_example.nc').load()\n",
    "ds"
   ]
  },
  {
   "cell_type": "code",
   "execution_count": null,
   "metadata": {},
   "outputs": [],
   "source": [
    "vdims = ['channel_0014_brightness_temperature']\n",
    "kdims = ['time', 'x', 'y']\n",
    "\n",
    "\n",
    "xr_dataset = gv.Dataset(ds.isel(time=slice(24,348)), kdims=kdims, vdims=vdims)\n",
    "\n",
    "hv.Dimension.type_formatters[np.datetime64] = '%Y-%m-%d %HH:%MM'\n"
   ]
  },
  {
   "cell_type": "code",
   "execution_count": null,
   "metadata": {},
   "outputs": [],
   "source": [
    "qobj = xr_dataset.to(gv.Image, ['x', 'y']).options(width=600, height=570)\n",
    "qobj.opts(gv.opts.Image(clim=(273.15+21, 273.15+26), cmap='inferno') )"
   ]
  },
  {
   "cell_type": "raw",
   "metadata": {},
   "source": [
    "#xr_dataset.to(gv.QuadMesh, ['x', 'y']).options(width=600, height=570).opts(colorbar=True)\n",
    "xr_dataset.to(gv.Image, ['x', 'y']).options(width=600, height=570)\n",
    "\n",
    "#qmesh.opts(colorbar=True, cmap='RdBu_r') "
   ]
  },
  {
   "cell_type": "code",
   "execution_count": null,
   "metadata": {},
   "outputs": [],
   "source": []
  }
 ],
 "metadata": {
  "kernelspec": {
   "display_name": "Python 3",
   "language": "python",
   "name": "python3"
  },
  "language_info": {
   "codemirror_mode": {
    "name": "ipython",
    "version": 3
   },
   "file_extension": ".py",
   "mimetype": "text/x-python",
   "name": "python",
   "nbconvert_exporter": "python",
   "pygments_lexer": "ipython3",
   "version": "3.7.3"
  }
 },
 "nbformat": 4,
 "nbformat_minor": 4
}
