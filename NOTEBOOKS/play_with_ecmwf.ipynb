{
 "cells": [
  {
   "cell_type": "code",
   "execution_count": 2,
   "metadata": {},
   "outputs": [
    {
     "name": "stdout",
     "output_type": "stream",
     "text": [
      "Requirement already satisfied: xarray==0.10.0 in ./.local/lib/python3.6/site-packages (0.10.0)\n",
      "Requirement already satisfied: netcdf4 in ./.local/lib/python3.6/site-packages (1.5.3)\n",
      "Requirement already satisfied: numpy>=1.11 in /cvmfs/sft.cern.ch/lcg/views/LCG_96python3/x86_64-centos7-gcc8-opt/lib/python3.6/site-packages (from xarray==0.10.0) (1.16.4)\n",
      "Requirement already satisfied: pandas>=0.18.0 in /cvmfs/sft.cern.ch/lcg/views/LCG_96python3/x86_64-centos7-gcc8-opt/lib/python3.6/site-packages (from xarray==0.10.0) (0.24.2)\n",
      "Requirement already satisfied: cftime in ./.local/lib/python3.6/site-packages (from netcdf4) (1.0.4.2)\n",
      "Requirement already satisfied: python-dateutil>=2.5.0 in /usr/local/lib/swan (from pandas>=0.18.0->xarray==0.10.0) (2.8.0)\n",
      "Requirement already satisfied: pytz>=2011k in /cvmfs/sft.cern.ch/lcg/views/LCG_96python3/x86_64-centos7-gcc8-opt/lib/python3.6/site-packages (from pandas>=0.18.0->xarray==0.10.0) (2019.1)\n",
      "Requirement already satisfied: six>=1.5 in /usr/local/lib/swan (from python-dateutil>=2.5.0->pandas>=0.18.0->xarray==0.10.0) (1.12.0)\n"
     ]
    }
   ],
   "source": [
    "!pip install --user xarray==0.10.0 netcdf4"
   ]
  },
  {
   "cell_type": "code",
   "execution_count": 1,
   "metadata": {},
   "outputs": [],
   "source": [
    "import xarray as xr\n",
    "import matplotlib.pyplot as plt\n",
    "import numpy as np"
   ]
  },
  {
   "cell_type": "code",
   "execution_count": 2,
   "metadata": {},
   "outputs": [],
   "source": [
    "ncfiles = 'cloudstor/Shared/ECMWF_NWS/ECMWF_ROMS_forcing_NWS_2015.nc'\n",
    "\n",
    "ds = xr.open_dataset(ncfiles)"
   ]
  },
  {
   "cell_type": "code",
   "execution_count": 3,
   "metadata": {},
   "outputs": [
    {
     "data": {
      "text/plain": [
       "<xarray.Dataset>\n",
       "Dimensions:     (dim1: 145, dim2: 281, time: 8760)\n",
       "Coordinates:\n",
       "  * time        (time) datetime64[ns] 2015-01-01 2015-01-01T01:00:00 ...\n",
       "    lon         (dim1, dim2) float64 ...\n",
       "    lat         (dim1, dim2) float64 ...\n",
       "Dimensions without coordinates: dim1, dim2\n",
       "Data variables:\n",
       "    Uwind       (time, dim1, dim2) float64 ...\n",
       "    Vwind       (time, dim1, dim2) float64 ...\n",
       "    Qair        (time, dim1, dim2) float64 ...\n",
       "    Tair        (time, dim1, dim2) float64 ...\n",
       "    SST         (time, dim1, dim2) float64 ...\n",
       "    Pair        (time, dim1, dim2) float64 ...\n",
       "    cloud       (time, dim1, dim2) float64 ...\n",
       "    lwrad_down  (time, dim1, dim2) float64 ...\n",
       "    swrad       (time, dim1, dim2) float64 ...\n",
       "    rain        (time, dim1, dim2) float64 ...\n",
       "    wind_time   (time) datetime64[ns] ...\n",
       "    qair_time   (time) datetime64[ns] ...\n",
       "    tair_time   (time) datetime64[ns] ...\n",
       "    sst_time    (time) datetime64[ns] ...\n",
       "    pair_time   (time) datetime64[ns] ...\n",
       "    lrf_time    (time) datetime64[ns] ...\n",
       "    srf_time    (time) datetime64[ns] ...\n",
       "    rain_time   (time) datetime64[ns] ...\n",
       "    cloud_time  (time) datetime64[ns] ...\n",
       "Attributes:\n",
       "    Conventions:  CF-1.0\n",
       "    type:         ROMS Forcing File\n",
       "    author:       ivica\n",
       "    history:      Mon Nov 11 10:36:14 2019: /opt/nco_new/bin/ncrcat -7 --ppc ...\n",
       "    title:        ECMWF 0.125 Forecast File\n",
       "    NCO:          netCDF Operators version 4.7.8 (Homepage = http://nco.sf.ne..."
      ]
     },
     "execution_count": 3,
     "metadata": {},
     "output_type": "execute_result"
    }
   ],
   "source": [
    "ds"
   ]
  },
  {
   "cell_type": "code",
   "execution_count": 7,
   "metadata": {},
   "outputs": [
    {
     "data": {
      "text/plain": [
       "<xarray.DataArray 'Qair' (time: 8760, dim1: 145, dim2: 281)>\n",
       "[356926200 values with dtype=float64]\n",
       "Coordinates:\n",
       "  * time     (time) datetime64[ns] 2015-01-01 2015-01-01T01:00:00 ...\n",
       "    lon      (dim1, dim2) float64 ...\n",
       "    lat      (dim1, dim2) float64 ...\n",
       "Dimensions without coordinates: dim1, dim2\n",
       "Attributes:\n",
       "    long_name:  Surface air relative humidity\n",
       "    time:       qair_time\n",
       "    units:      [0-100]\n",
       "    field:      Qair, scalar, series"
      ]
     },
     "execution_count": 7,
     "metadata": {},
     "output_type": "execute_result"
    }
   ],
   "source": [
    "ds.Qair"
   ]
  },
  {
   "cell_type": "code",
   "execution_count": null,
   "metadata": {},
   "outputs": [],
   "source": []
  }
 ],
 "metadata": {
  "kernelspec": {
   "display_name": "Python 3",
   "language": "python",
   "name": "python3"
  },
  "language_info": {
   "codemirror_mode": {
    "name": "ipython",
    "version": 3
   },
   "file_extension": ".py",
   "mimetype": "text/x-python",
   "name": "python",
   "nbconvert_exporter": "python",
   "pygments_lexer": "ipython3",
   "version": "3.6.5"
  }
 },
 "nbformat": 4,
 "nbformat_minor": 4
}
