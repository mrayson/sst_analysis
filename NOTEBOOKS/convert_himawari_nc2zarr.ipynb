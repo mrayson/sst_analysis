{
 "cells": [
  {
   "cell_type": "markdown",
   "metadata": {},
   "source": [
    "# Convert the daily netcdf files from JAXA to one zarr file"
   ]
  },
  {
   "cell_type": "raw",
   "metadata": {},
   "source": [
    "!pip install zarr"
   ]
  },
  {
   "cell_type": "code",
   "execution_count": 2,
   "metadata": {},
   "outputs": [],
   "source": [
    "# Use a dask client\n",
    "from dask.distributed import Client, LocalCluster, worker, progress, wait\n",
    "import dask\n",
    "from dask_jobqueue import SLURMCluster\n"
   ]
  },
  {
   "cell_type": "code",
   "execution_count": 3,
   "metadata": {},
   "outputs": [
    {
     "data": {
      "text/html": [
       "<table style=\"border: 2px solid white;\">\n",
       "<tr>\n",
       "<td style=\"vertical-align: top; border: 0px solid white\">\n",
       "<h3 style=\"text-align: left;\">Client</h3>\n",
       "<ul style=\"text-align: left; list-style: none; margin: 0; padding: 0;\">\n",
       "  <li><b>Scheduler: </b>tcp://146.118.38.87:35442</li>\n",
       "  <li><b>Dashboard: </b><a href='http://146.118.38.87:8787/status' target='_blank'>http://146.118.38.87:8787/status</a>\n",
       "</ul>\n",
       "</td>\n",
       "<td style=\"vertical-align: top; border: 0px solid white\">\n",
       "<h3 style=\"text-align: left;\">Cluster</h3>\n",
       "<ul style=\"text-align: left; list-style:none; margin: 0; padding: 0;\">\n",
       "  <li><b>Workers: </b>0</li>\n",
       "  <li><b>Cores: </b>0</li>\n",
       "  <li><b>Memory: </b>0 B</li>\n",
       "</ul>\n",
       "</td>\n",
       "</tr>\n",
       "</table>"
      ],
      "text/plain": [
       "<Client: 'tcp://146.118.38.87:35442' processes=0 threads=0, memory=0 B>"
      ]
     },
     "execution_count": 3,
     "metadata": {},
     "output_type": "execute_result"
    }
   ],
   "source": [
    "cluster = SLURMCluster()\n",
    "client=Client(cluster)\n",
    "cluster.scale(32)\n",
    "client"
   ]
  },
  {
   "cell_type": "code",
   "execution_count": 4,
   "metadata": {},
   "outputs": [],
   "source": [
    "import xarray as xr\n",
    "import matplotlib.pyplot as plt\n",
    "import numpy as np\n",
    "import pandas as pd\n",
    "import glob\n",
    "import zarr\n",
    "\n"
   ]
  },
  {
   "cell_type": "code",
   "execution_count": 5,
   "metadata": {},
   "outputs": [],
   "source": [
    "### Input variables\n",
    "# years = [2016,2017,2018,2019]\n",
    "# myfile = '/home/mrayson/scratch/HIMAWARI/raw/%d%02d*.nc'\n",
    "#outpath = '/home/mrayson/scratch/HIMAWARI/raw_zarr'\n",
    "\n",
    "years = [2020,2021]\n",
    "myfile = '/home/mrayson/scratch/HIMAWARI/raw_v2/%d%02d*.nc'\n",
    "outpath = '/home/mrayson/scratch/HIMAWARI/raw_zarr_v2'"
   ]
  },
  {
   "cell_type": "code",
   "execution_count": 6,
   "metadata": {},
   "outputs": [
    {
     "name": "stdout",
     "output_type": "stream",
     "text": [
      "/home/mrayson/scratch/HIMAWARI/raw_v2/202001*.nc\n",
      "/home/mrayson/scratch/HIMAWARI/raw_v2/202002*.nc\n",
      "/home/mrayson/scratch/HIMAWARI/raw_v2/202003*.nc\n",
      "/home/mrayson/scratch/HIMAWARI/raw_v2/202004*.nc\n",
      "/home/mrayson/scratch/HIMAWARI/raw_v2/202005*.nc\n",
      "/home/mrayson/scratch/HIMAWARI/raw_v2/202006*.nc\n",
      "/home/mrayson/scratch/HIMAWARI/raw_v2/202007*.nc\n",
      "/home/mrayson/scratch/HIMAWARI/raw_v2/202008*.nc\n",
      "/home/mrayson/scratch/HIMAWARI/raw_v2/202009*.nc\n",
      "/home/mrayson/scratch/HIMAWARI/raw_v2/202010*.nc\n",
      "/home/mrayson/scratch/HIMAWARI/raw_v2/202011*.nc\n",
      "/home/mrayson/scratch/HIMAWARI/raw_v2/202012*.nc\n",
      "/home/mrayson/scratch/HIMAWARI/raw_v2/202101*.nc\n",
      "/home/mrayson/scratch/HIMAWARI/raw_v2/202102*.nc\n",
      "/home/mrayson/scratch/HIMAWARI/raw_v2/202103*.nc\n"
     ]
    },
    {
     "name": "stderr",
     "output_type": "stream",
     "text": [
      "/home/mrayson/group/mrayson/miniconda3/envs/soda/lib/python3.7/site-packages/xarray/core/dataset.py:1658: SerializationWarning: saving variable None with floating point data as an integer dtype without any _FillValue to use for NaNs\n",
      "  append_dim=append_dim,\n"
     ]
    },
    {
     "name": "stdout",
     "output_type": "stream",
     "text": [
      "/home/mrayson/scratch/HIMAWARI/raw_v2/202104*.nc\n"
     ]
    },
    {
     "name": "stderr",
     "output_type": "stream",
     "text": [
      "/home/mrayson/group/mrayson/miniconda3/envs/soda/lib/python3.7/site-packages/xarray/core/dataset.py:1658: SerializationWarning: saving variable None with floating point data as an integer dtype without any _FillValue to use for NaNs\n",
      "  append_dim=append_dim,\n"
     ]
    },
    {
     "name": "stdout",
     "output_type": "stream",
     "text": [
      "/home/mrayson/scratch/HIMAWARI/raw_v2/202105*.nc\n"
     ]
    },
    {
     "name": "stderr",
     "output_type": "stream",
     "text": [
      "/home/mrayson/group/mrayson/miniconda3/envs/soda/lib/python3.7/site-packages/xarray/core/dataset.py:1658: SerializationWarning: saving variable None with floating point data as an integer dtype without any _FillValue to use for NaNs\n",
      "  append_dim=append_dim,\n"
     ]
    },
    {
     "name": "stdout",
     "output_type": "stream",
     "text": [
      "/home/mrayson/scratch/HIMAWARI/raw_v2/202106*.nc\n"
     ]
    },
    {
     "name": "stderr",
     "output_type": "stream",
     "text": [
      "/home/mrayson/group/mrayson/miniconda3/envs/soda/lib/python3.7/site-packages/xarray/core/dataset.py:1658: SerializationWarning: saving variable None with floating point data as an integer dtype without any _FillValue to use for NaNs\n",
      "  append_dim=append_dim,\n"
     ]
    },
    {
     "name": "stdout",
     "output_type": "stream",
     "text": [
      "/home/mrayson/scratch/HIMAWARI/raw_v2/202107*.nc\n"
     ]
    },
    {
     "ename": "OSError",
     "evalue": "no files to open",
     "output_type": "error",
     "traceback": [
      "\u001b[0;31m---------------------------------------------------------------------------\u001b[0m",
      "\u001b[0;31mOSError\u001b[0m                                   Traceback (most recent call last)",
      "\u001b[0;32m<timed exec>\u001b[0m in \u001b[0;36m<module>\u001b[0;34m\u001b[0m\n",
      "\u001b[0;32m~/group/mrayson/miniconda3/envs/soda/lib/python3.7/site-packages/xarray/backends/api.py\u001b[0m in \u001b[0;36mopen_mfdataset\u001b[0;34m(paths, chunks, concat_dim, compat, preprocess, engine, lock, data_vars, coords, combine, autoclose, parallel, join, attrs_file, **kwargs)\u001b[0m\n\u001b[1;32m    889\u001b[0m \u001b[0;34m\u001b[0m\u001b[0m\n\u001b[1;32m    890\u001b[0m     \u001b[0;32mif\u001b[0m \u001b[0;32mnot\u001b[0m \u001b[0mpaths\u001b[0m\u001b[0;34m:\u001b[0m\u001b[0;34m\u001b[0m\u001b[0;34m\u001b[0m\u001b[0m\n\u001b[0;32m--> 891\u001b[0;31m         \u001b[0;32mraise\u001b[0m \u001b[0mOSError\u001b[0m\u001b[0;34m(\u001b[0m\u001b[0;34m\"no files to open\"\u001b[0m\u001b[0;34m)\u001b[0m\u001b[0;34m\u001b[0m\u001b[0;34m\u001b[0m\u001b[0m\n\u001b[0m\u001b[1;32m    892\u001b[0m \u001b[0;34m\u001b[0m\u001b[0m\n\u001b[1;32m    893\u001b[0m     \u001b[0;31m# If combine='by_coords' then this is unnecessary, but quick.\u001b[0m\u001b[0;34m\u001b[0m\u001b[0;34m\u001b[0m\u001b[0;34m\u001b[0m\u001b[0m\n",
      "\u001b[0;31mOSError\u001b[0m: no files to open"
     ]
    }
   ],
   "source": [
    "%%time\n",
    "\n",
    "# Convert the dataset to zarr (to this once only)\n",
    "compressor = zarr.Blosc(cname='zstd', clevel=3, shuffle=2)\n",
    "\n",
    "mode='w'\n",
    "append_dim=None\n",
    "encoding = {'sea_surface_temperature': {'compressor': compressor}}\n",
    "\n",
    "# mode = 'a'\n",
    "# append_dim='time'\n",
    "# encoding=None\n",
    "\n",
    "for year in years:\n",
    "    for mo in range(1,13):\n",
    "        \n",
    "        # Skip a few bad section\n",
    "        #if year==2017 and mo == 10:\n",
    "        #    continue\n",
    "        \n",
    "\n",
    "        filestr = myfile%(year,mo)\n",
    "        print(filestr)\n",
    "        ds = xr.open_mfdataset(sorted(glob.glob(filestr)),\n",
    "                               combine='by_coords',\n",
    "                               parallel=True)\n",
    "        # Mask bad flagged data\n",
    "        sst = ds['sea_surface_temperature'].where(ds['quality_level']>4, np.nan)\n",
    "        \n",
    "        sst=sst.assign_coords({'lon': (((sst.lon ) % 360))})\n",
    "        \n",
    "        # Save to zarr format\n",
    "        dsout = xr.Dataset({'sea_surface_temperature':sst}, attrs=ds.attrs)\n",
    "\n",
    "        dsout.to_zarr(outpath, encoding=encoding,\\\n",
    "                     mode=mode, append_dim=append_dim)\n",
    "        \n",
    "        mode='a'\n",
    "        append_dim='time'\n",
    "        encoding=None\n",
    "\n",
    "        #                       concat_dim='time',\n",
    "#                       data_vars=['sea_surface_temperature','quality_level'])"
   ]
  },
  {
   "cell_type": "code",
   "execution_count": null,
   "metadata": {},
   "outputs": [],
   "source": []
  }
 ],
 "metadata": {
  "kernelspec": {
   "display_name": "Python 3",
   "language": "python",
   "name": "python3"
  },
  "language_info": {
   "codemirror_mode": {
    "name": "ipython",
    "version": 3
   },
   "file_extension": ".py",
   "mimetype": "text/x-python",
   "name": "python",
   "nbconvert_exporter": "python",
   "pygments_lexer": "ipython3",
   "version": "3.7.6"
  }
 },
 "nbformat": 4,
 "nbformat_minor": 4
}
